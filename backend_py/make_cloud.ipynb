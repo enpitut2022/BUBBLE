{
 "cells": [
  {
   "cell_type": "code",
   "execution_count": 1,
   "metadata": {},
   "outputs": [
    {
     "name": "stdout",
     "output_type": "stream",
     "text": [
      "Requirement already satisfied: mecab in /Users/sato-aimy/opt/anaconda3/lib/python3.9/site-packages (0.996.3)\n",
      "Requirement already satisfied: ipadic in /Users/sato-aimy/opt/anaconda3/lib/python3.9/site-packages (1.0.0)\n"
     ]
    }
   ],
   "source": [
    "!pip install mecab\n",
    "!pip install ipadic"
   ]
  },
  {
   "cell_type": "code",
   "execution_count": 28,
   "metadata": {},
   "outputs": [],
   "source": [
    "import re\n",
    "import ipadic\n",
    "import subprocess\n",
    "import unicodedata\n",
    "import pandas as pd\n",
    "import MeCab\n",
    "from wordcloud import WordCloud\n",
    "import json"
   ]
  },
  {
   "cell_type": "code",
   "execution_count": 3,
   "metadata": {},
   "outputs": [],
   "source": [
    "# データの読み込み\n",
    "df = pd.read_csv(\"./sample_data.csv\")\n",
    "# ユニコード正規化とアルファベットの小文字統一\n",
    "df.text = df.text.str.normalize(\"NFKC\").str.lower()\n",
    "# 改行コードを取り除く\n",
    "df.text = df.text.str.replace(\"\\n\", \" \")\n",
    "# エラーになる文字があるので取り除く (ライブドアニュースコーパス使う場合だけの処理。普通は不要)\n",
    "df.text = df.text.str.replace(\"\\u2028\", \"\")\n",
    "\n",
    "# 辞書のパス取得\n",
    "tagger = MeCab.Tagger(ipadic.MECAB_ARGS)\n",
    "\n",
    "# ひらがなのみの文字列にマッチする正規表現\n",
    "kana_re = re.compile(\"^[ぁ-ゖ]+$\")\n",
    "\n",
    "# 分かち書きして、ひらがな以外を含む 名詞/動詞/形容詞 を返す関数\n",
    "def mecab_tokenizer(text):\n",
    "    # 分かち書き\n",
    "    parsed_lines = tagger.parse(text).splitlines()[:-1]\n",
    "    surfaces = [l.split('\\t')[0] for l in parsed_lines]\n",
    "    features = [l.split('\\t')[1] for l in parsed_lines]\n",
    "    # 原型を取得\n",
    "    bases = [f.split(',')[6] for f in features]\n",
    "    # 品詞を取得\n",
    "    pos = [f.split(',')[0] for f in features]\n",
    "    # 各単語を原型に変換する\n",
    "    token_list = [b if b != '*' else s for s, b in zip(surfaces, bases)]\n",
    "    # 名詞/動詞/形容詞に絞り込み\n",
    "    target_pos = [\"名詞\", \"動詞\", \"形容詞\"]\n",
    "    token_list = [t for t, p in zip(token_list, pos) if (p in target_pos)]\n",
    "    # ひらがなのみの単語を除く\n",
    "    token_list = [t for t in token_list if not kana_re.match(t)]\n",
    "    # アルファベットを小文字に統一\n",
    "    token_list = [t.lower() for t in token_list]\n",
    "    # 半角スペースを挟んで結合する。\n",
    "    result = \" \".join(token_list)\n",
    "    # 念のためもう一度ユニコード正規化\n",
    "    result = unicodedata.normalize(\"NFKC\", result)\n",
    "    return result\n",
    "    "
   ]
  },
  {
   "cell_type": "code",
   "execution_count": 4,
   "metadata": {},
   "outputs": [],
   "source": [
    "# 形態素解析\n",
    "df[\"tokens\"] = df.text.apply(mecab_tokenizer)\n",
    "# wordcloud入力データ用に連結する\n",
    "text_data = \" \".join(df[\"tokens\"])\n",
    "\n",
    "# ワードクラウドのオブジェクト生成\n",
    "wc = WordCloud(\n",
    "        width=600,  # 幅\n",
    "        height=400,  # 高さ\n",
    "        prefer_horizontal=0.9,  # 横書きで配置することを試す確率 (デフォルト0.9)\n",
    "        background_color='white',  # 背景色\n",
    "        include_numbers=False,  # 数値だけの単語を含まない\n",
    "        colormap='tab20',  # 文字色のカラーマップ指定\n",
    "        regexp=r\"\\w{2,}\",  # 2文字以上の単語のみ含む\n",
    "        relative_scaling=1,  # 頻度のみで文字サイズを決める\n",
    "        collocations=False,  # bi-gramを考慮しない\n",
    "        max_font_size=60,  # 最大フォントサイズ\n",
    "        random_state=42,  # 乱数の初期値\n",
    "    ).generate(text_data)\n",
    "\n",
    "# この時点で作成できたwordcloudを確認する場合は以下の関数を実行。\n",
    "ex_text = wc.to_svg()\n",
    "ex_img = wc.to_image()\n",
    "# 出力省略\n"
   ]
  },
  {
   "cell_type": "code",
   "execution_count": 12,
   "metadata": {},
   "outputs": [
    {
     "data": {
      "text/html": [
       "<div>\n",
       "<style scoped>\n",
       "    .dataframe tbody tr th:only-of-type {\n",
       "        vertical-align: middle;\n",
       "    }\n",
       "\n",
       "    .dataframe tbody tr th {\n",
       "        vertical-align: top;\n",
       "    }\n",
       "\n",
       "    .dataframe thead th {\n",
       "        text-align: right;\n",
       "    }\n",
       "</style>\n",
       "<table border=\"1\" class=\"dataframe\">\n",
       "  <thead>\n",
       "    <tr style=\"text-align: right;\">\n",
       "      <th></th>\n",
       "      <th>text</th>\n",
       "      <th>wight</th>\n",
       "      <th>tokens</th>\n",
       "    </tr>\n",
       "  </thead>\n",
       "  <tbody>\n",
       "    <tr>\n",
       "      <th>0</th>\n",
       "      <td>サル痘の潜伏期間は7~14日(最大5~21日)とされており、潜伏期間の後、発熱、頭痛、リンパ...</td>\n",
       "      <td>NaN</td>\n",
       "      <td>サル 痘 潜伏 期間 7 14 日 最大 5 21 日 潜伏 期間 後 発熱 頭痛 リンパ ...</td>\n",
       "    </tr>\n",
       "    <tr>\n",
       "      <th>1</th>\n",
       "      <td>#東京2020大会 #1周年記念 セレモニー日本代表選手団 163 名等による入場パレードや...</td>\n",
       "      <td>52.0</td>\n",
       "      <td>東京 2020 大会 1 周年 記念 セレモニー 日本 代表 選手 団 163 名 等 入場...</td>\n",
       "    </tr>\n",
       "    <tr>\n",
       "      <th>2</th>\n",
       "      <td>日本の友達と淡路島に旅行へ行ったんだけど、最初に全員から1万円ずつ集めて財布に入れて、ご飯を...</td>\n",
       "      <td>20.0</td>\n",
       "      <td>日本 友達 淡路島 旅行 行く 最初 全員 1 万 円 集める 財布 入れる ご飯 買う 時...</td>\n",
       "    </tr>\n",
       "    <tr>\n",
       "      <th>3</th>\n",
       "      <td>もしかすると、ネコ科の仔ってみんな、トラもライオンもヒョウもピューマもチータもカラカルもサー...</td>\n",
       "      <td>32.0</td>\n",
       "      <td>ネコ 科 仔 トラ ライオン ヒョウ ピューマ チータ カラカル サー バル マヌル イリオ...</td>\n",
       "    </tr>\n",
       "  </tbody>\n",
       "</table>\n",
       "</div>"
      ],
      "text/plain": [
       "                                                text  wight  \\\n",
       "0  サル痘の潜伏期間は7~14日(最大5~21日)とされており、潜伏期間の後、発熱、頭痛、リンパ...    NaN   \n",
       "1  #東京2020大会 #1周年記念 セレモニー日本代表選手団 163 名等による入場パレードや...   52.0   \n",
       "2  日本の友達と淡路島に旅行へ行ったんだけど、最初に全員から1万円ずつ集めて財布に入れて、ご飯を...   20.0   \n",
       "3  もしかすると、ネコ科の仔ってみんな、トラもライオンもヒョウもピューマもチータもカラカルもサー...   32.0   \n",
       "\n",
       "                                              tokens  \n",
       "0  サル 痘 潜伏 期間 7 14 日 最大 5 21 日 潜伏 期間 後 発熱 頭痛 リンパ ...  \n",
       "1  東京 2020 大会 1 周年 記念 セレモニー 日本 代表 選手 団 163 名 等 入場...  \n",
       "2  日本 友達 淡路島 旅行 行く 最初 全員 1 万 円 集める 財布 入れる ご飯 買う 時...  \n",
       "3  ネコ 科 仔 トラ ライオン ヒョウ ピューマ チータ カラカル サー バル マヌル イリオ...  "
      ]
     },
     "execution_count": 12,
     "metadata": {},
     "output_type": "execute_result"
    }
   ],
   "source": [
    "df"
   ]
  },
  {
   "cell_type": "code",
   "execution_count": 33,
   "metadata": {},
   "outputs": [
    {
     "name": "stdout",
     "output_type": "stream",
     "text": [
      "0\n"
     ]
    }
   ],
   "source": [
    "tokens = df.tokens\n",
    "texts = df.text\n",
    "i = 0\n",
    "print(i)\n",
    "type(i)\n",
    "\n",
    "dic = {}\n",
    "\n",
    "for token in tokens:\n",
    "    wordend = token.split()\n",
    "    for word in wordend:\n",
    "       dic.setdefault(word,set())\n",
    "       dic[word].add(i)\n",
    "    i += 1\n",
    "\n",
    "for key in dic.keys():\n",
    "   dic[key] = list(dic[key])\n",
    "       \n"
   ]
  },
  {
   "cell_type": "code",
   "execution_count": 34,
   "metadata": {},
   "outputs": [
    {
     "name": "stdout",
     "output_type": "stream",
     "text": [
      "{'dic': {'サル': [0], '痘': [0], '潜伏': [0], '期間': [0], '7': [0], '14': [0], '日': [0], '最大': [0], '5': [0], '21': [0], '後': [0], '発熱': [0], '頭痛': [0], 'リンパ': [0], '節': [0], '腫脹': [0], '筋肉': [0], '痛': [0], '症状': [0], '0': [0], '続く': [0], '1': [0, 1, 2], '3': [0], '発疹': [0], '出現': [0], '発症': [0], '2': [0], '4': [0], '週間': [0], '治癒': [0], '24': [0], '東京': [1], '2020': [1], '大会': [1], '周年': [1], '記念': [1], 'セレモニー': [1], '日本': [1, 2], '代表': [1], '選手': [1], '団': [1], '163': [1], '名': [1], '等': [1], '入場': [1, 2], 'パレード': [1], 'アスリート': [1], '子供': [1], '混合': [1], 'チーム': [1], 'リレー': [1], 'ライブ': [1], 'パフォーマンス': [1], '会場': [1], '盛大': [1], '盛り上がる': [1], '来場': [1], '皆さま': [1], 'youtubelive': [1], '配信': [1], '視聴': [1], '友達': [2], '淡路島': [2], '旅行': [2], '行く': [2], '最初': [2], '全員': [2], '万': [2], '円': [2], '集める': [2], '財布': [2], '入れる': [2], 'ご飯': [2], '買う': [2], '時': [2], '移動': [2], '料': [2], '使う': [2], '支払う': [2], '日本人': [2], '天才': [2], '思う': [2], '余る': [2], '個人': [2], 'アイデア': [2], 'ネコ': [3], '科': [3], '仔': [3], 'トラ': [3], 'ライオン': [3], 'ヒョウ': [3], 'ピューマ': [3], 'チータ': [3], 'カラカル': [3], 'サー': [3], 'バル': [3], 'マヌル': [3], 'イリオモテオオヤマネコ': [3], 'クァール': [3], 'ゴメンチャイ': [3], '寝る': [3]}, 'posts': ['サル痘の潜伏期間は7~14日(最大5~21日)とされており、潜伏期間の後、発熱、頭痛、リンパ節腫脹、筋肉痛などの症状が0~5日続き、発熱1~3日後に発疹が出現、発症から2~4週間で治癒するとされています。24', '#東京2020大会 #1周年記念 セレモニー日本代表選手団 163 名等による入場パレードやアスリートと子供たちの混合チームリレー ライブパフォーマンス等により、 会場は盛大に盛り上がりました🎉ご来場の皆さま、youtubelive配信でご視聴の皆さま、ありがとうございました✨', '日本の友達と淡路島に旅行へ行ったんだけど、最初に全員から1万円ずつ集めて財布に入れて、ご飯を買う時とか、移動する時とか、入場料とか、みんなで使うものをそこから支払っていて『やっぱり日本人日本人日本人日本人日本人、天才だな』って思った。余ればわければいいし、個人のものは個人で買えばいい。天才アイデア。', 'もしかすると、ネコ科の仔ってみんな、トラもライオンもヒョウもピューマもチータもカラカルもサーバルもマヌルもイリオモテオオヤマネコもクァールもみんな、ゴメンチャイ寝するのかね?'], 'wordcloud': '<svg xmlns=\"http://www.w3.org/2000/svg\" width=\"600\" height=\"400\">\\n<style>text{font-family:\\'Droid Sans Mono\\';font-weight:normal;font-style:normal;}</style>\\n<rect width=\"100%\" height=\"100%\" style=\"fill:white\"></rect>\\n<text transform=\"translate(186,57)\" font-size=\"60\" style=\"fill:rgb(127, 127, 127)\">日本人</text>\\n<text transform=\"translate(371,94)\" font-size=\"24\" style=\"fill:rgb(127, 127, 127)\">潜伏</text>\\n<text transform=\"translate(100,285)\" font-size=\"24\" style=\"fill:rgb(174, 199, 232)\">期間</text>\\n<text transform=\"translate(407,35)\" font-size=\"24\" style=\"fill:rgb(174, 199, 232)\">発熱</text>\\n<text transform=\"translate(191,318)\" font-size=\"24\" style=\"fill:rgb(31, 119, 180)\">日本</text>\\n<text transform=\"translate(133,344)\" font-size=\"24\" style=\"fill:rgb(127, 127, 127)\">入場</text>\\n<text transform=\"translate(93,253)\" font-size=\"24\" style=\"fill:rgb(196, 156, 148)\">皆さま</text>\\n<text transform=\"translate(147,22)\" font-size=\"24\" style=\"fill:rgb(199, 199, 199)\">買う</text>\\n<text transform=\"translate(49,234)\" font-size=\"24\" style=\"fill:rgb(214, 39, 40)\">天才</text>\\n<text transform=\"translate(530,193)\" font-size=\"24\" style=\"fill:rgb(255, 127, 14)\">個人</text>\\n<text transform=\"translate(162,188)\" font-size=\"12\" style=\"fill:rgb(188, 189, 34)\">サル</text>\\n<text transform=\"translate(487,37)\" font-size=\"12\" style=\"fill:rgb(127, 127, 127)\">最大</text>\\n<text transform=\"translate(576,199)\" font-size=\"12\" style=\"fill:rgb(174, 199, 232)\">頭痛</text>\\n<text transform=\"translate(403,330)\" font-size=\"12\" style=\"fill:rgb(227, 119, 194)\">リンパ</text>\\n<text transform=\"translate(69,297)\" font-size=\"12\" style=\"fill:rgb(255, 187, 120)\">腫脹</text>\\n<text transform=\"translate(260,340)\" font-size=\"12\" style=\"fill:rgb(44, 160, 44)\">筋肉</text>\\n<text transform=\"translate(408,59)\" font-size=\"12\" style=\"fill:rgb(219, 219, 141)\">症状</text>\\n<text transform=\"translate(305,202)\" font-size=\"12\" style=\"fill:rgb(152, 223, 138)\">続く</text>\\n<text transform=\"translate(55,195)\" font-size=\"12\" style=\"fill:rgb(255, 187, 120)\">発疹</text>\\n<text transform=\"translate(164,349)\" font-size=\"12\" style=\"fill:rgb(152, 223, 138)\">出現</text>\\n<text transform=\"translate(521,341) rotate(-90)\" font-size=\"12\" style=\"fill:rgb(174, 199, 232)\">発症</text>\\n<text transform=\"translate(541,279)\" font-size=\"12\" style=\"fill:rgb(127, 127, 127)\">週間</text>\\n<text transform=\"translate(43,204)\" font-size=\"12\" style=\"fill:rgb(152, 223, 138)\">治癒</text>\\n<text transform=\"translate(582,364) rotate(-90)\" font-size=\"12\" style=\"fill:rgb(196, 156, 148)\">東京</text>\\n<text transform=\"translate(296,46)\" font-size=\"12\" style=\"fill:rgb(44, 160, 44)\">大会</text>\\n<text transform=\"translate(318,170)\" font-size=\"12\" style=\"fill:rgb(148, 103, 189)\">周年</text>\\n<text transform=\"translate(236,300)\" font-size=\"12\" style=\"fill:rgb(219, 219, 141)\">記念</text>\\n<text transform=\"translate(437,383)\" font-size=\"12\" style=\"fill:rgb(197, 176, 213)\">セレモニー</text>\\n<text transform=\"translate(415,341)\" font-size=\"12\" style=\"fill:rgb(197, 176, 213)\">代表</text>\\n<text transform=\"translate(379,139)\" font-size=\"12\" style=\"fill:rgb(127, 127, 127)\">選手</text>\\n<text transform=\"translate(562,335)\" font-size=\"12\" style=\"fill:rgb(148, 103, 189)\">パレード</text>\\n<text transform=\"translate(386,219)\" font-size=\"12\" style=\"fill:rgb(44, 160, 44)\">アスリート</text>\\n<text transform=\"translate(320,278) rotate(-90)\" font-size=\"12\" style=\"fill:rgb(197, 176, 213)\">子供</text>\\n<text transform=\"translate(183,76)\" font-size=\"12\" style=\"fill:rgb(255, 187, 120)\">混合</text>\\n<text transform=\"translate(383,382)\" font-size=\"12\" style=\"fill:rgb(148, 103, 189)\">チーム</text>\\n<text transform=\"translate(292,218)\" font-size=\"12\" style=\"fill:rgb(196, 156, 148)\">リレー</text>\\n<text transform=\"translate(160,148)\" font-size=\"12\" style=\"fill:rgb(158, 218, 229)\">ライブ</text>\\n<text transform=\"translate(343,19)\" font-size=\"12\" style=\"fill:rgb(247, 182, 210)\">パフォーマンス</text>\\n<text transform=\"translate(18,296)\" font-size=\"12\" style=\"fill:rgb(199, 199, 199)\">会場</text>\\n<text transform=\"translate(375,190)\" font-size=\"12\" style=\"fill:rgb(255, 127, 14)\">盛大</text>\\n<text transform=\"translate(289,288)\" font-size=\"12\" style=\"fill:rgb(31, 119, 180)\">盛り上がる</text>\\n<text transform=\"translate(79,152)\" font-size=\"12\" style=\"fill:rgb(158, 218, 229)\">来場</text>\\n<text transform=\"translate(411,235)\" font-size=\"12\" style=\"fill:rgb(23, 190, 207)\">youtubelive</text>\\n<text transform=\"translate(496,169)\" font-size=\"12\" style=\"fill:rgb(188, 189, 34)\">配信</text>\\n<text transform=\"translate(70,121)\" font-size=\"12\" style=\"fill:rgb(255, 187, 120)\">視聴</text>\\n<text transform=\"translate(532,308)\" font-size=\"12\" style=\"fill:rgb(158, 218, 229)\">友達</text>\\n<text transform=\"translate(307,22) rotate(-90)\" font-size=\"12\" style=\"fill:rgb(196, 156, 148)\">淡路島</text>\\n<text transform=\"translate(564,80)\" font-size=\"12\" style=\"fill:rgb(23, 190, 207)\">旅行</text>\\n<text transform=\"translate(485,178)\" font-size=\"12\" style=\"fill:rgb(44, 160, 44)\">行く</text>\\n<text transform=\"translate(337,327)\" font-size=\"12\" style=\"fill:rgb(23, 190, 207)\">最初</text>\\n<text transform=\"translate(404,280)\" font-size=\"12\" style=\"fill:rgb(188, 189, 34)\">全員</text>\\n<text transform=\"translate(79,338) rotate(-90)\" font-size=\"12\" style=\"fill:rgb(199, 199, 199)\">集める</text>\\n<text transform=\"translate(67,275)\" font-size=\"12\" style=\"fill:rgb(23, 190, 207)\">財布</text>\\n<text transform=\"translate(445,327)\" font-size=\"12\" style=\"fill:rgb(219, 219, 141)\">入れる</text>\\n<text transform=\"translate(480,129)\" font-size=\"12\" style=\"fill:rgb(23, 190, 207)\">ご飯</text>\\n<text transform=\"translate(25,125)\" font-size=\"12\" style=\"fill:rgb(127, 127, 127)\">移動</text>\\n<text transform=\"translate(230,393)\" font-size=\"12\" style=\"fill:rgb(227, 119, 194)\">使う</text>\\n<text transform=\"translate(468,325)\" font-size=\"12\" style=\"fill:rgb(197, 176, 213)\">支払う</text>\\n<text transform=\"translate(368,55)\" font-size=\"12\" style=\"fill:rgb(214, 39, 40)\">思う</text>\\n<text transform=\"translate(266,142)\" font-size=\"12\" style=\"fill:rgb(196, 156, 148)\">余る</text>\\n<text transform=\"translate(61,60)\" font-size=\"12\" style=\"fill:rgb(44, 160, 44)\">アイデア</text>\\n<text transform=\"translate(374,205) rotate(-90)\" font-size=\"12\" style=\"fill:rgb(174, 199, 232)\">ネコ</text>\\n<text transform=\"translate(262,292)\" font-size=\"12\" style=\"fill:rgb(44, 160, 44)\">トラ</text>\\n<text transform=\"translate(563,390)\" font-size=\"12\" style=\"fill:rgb(196, 156, 148)\">ライオン</text>\\n<text transform=\"translate(462,305)\" font-size=\"12\" style=\"fill:rgb(188, 189, 34)\">ヒョウ</text>\\n<text transform=\"translate(428,85)\" font-size=\"12\" style=\"fill:rgb(247, 182, 210)\">ピューマ</text>\\n<text transform=\"translate(553,264)\" font-size=\"12\" style=\"fill:rgb(197, 176, 213)\">チータ</text>\\n<text transform=\"translate(217,88)\" font-size=\"12\" style=\"fill:rgb(174, 199, 232)\">カラカル</text>\\n<text transform=\"translate(287,85)\" font-size=\"12\" style=\"fill:rgb(44, 160, 44)\">サー</text>\\n<text transform=\"translate(577,275)\" font-size=\"12\" style=\"fill:rgb(255, 127, 14)\">バル</text>\\n<text transform=\"translate(45,310)\" font-size=\"12\" style=\"fill:rgb(44, 160, 44)\">マヌル</text>\\n<text transform=\"translate(143,314) rotate(-90)\" font-size=\"12\" style=\"fill:rgb(188, 189, 34)\">イリオモテオオヤマネコ</text>\\n<text transform=\"translate(561,91)\" font-size=\"12\" style=\"fill:rgb(174, 199, 232)\">クァール</text>\\n<text transform=\"translate(261,392) rotate(-90)\" font-size=\"12\" style=\"fill:rgb(31, 119, 180)\">ゴメンチャイ</text>\\n<text transform=\"translate(356,154)\" font-size=\"12\" style=\"fill:rgb(255, 187, 120)\">寝る</text>\\n</svg>'}\n"
     ]
    }
   ],
   "source": [
    "result = {\"dic\":dic,\"posts\":list(texts),\"wordcloud\":ex_text}\n",
    "print(result)\n"
   ]
  },
  {
   "cell_type": "code",
   "execution_count": 35,
   "metadata": {},
   "outputs": [
    {
     "name": "stdout",
     "output_type": "stream",
     "text": [
      "{\"dic\": {\"\\u30b5\\u30eb\": [0], \"\\u75d8\": [0], \"\\u6f5c\\u4f0f\": [0], \"\\u671f\\u9593\": [0], \"7\": [0], \"14\": [0], \"\\u65e5\": [0], \"\\u6700\\u5927\": [0], \"5\": [0], \"21\": [0], \"\\u5f8c\": [0], \"\\u767a\\u71b1\": [0], \"\\u982d\\u75db\": [0], \"\\u30ea\\u30f3\\u30d1\": [0], \"\\u7bc0\": [0], \"\\u816b\\u8139\": [0], \"\\u7b4b\\u8089\": [0], \"\\u75db\": [0], \"\\u75c7\\u72b6\": [0], \"0\": [0], \"\\u7d9a\\u304f\": [0], \"1\": [0, 1, 2], \"3\": [0], \"\\u767a\\u75b9\": [0], \"\\u51fa\\u73fe\": [0], \"\\u767a\\u75c7\": [0], \"2\": [0], \"4\": [0], \"\\u9031\\u9593\": [0], \"\\u6cbb\\u7652\": [0], \"24\": [0], \"\\u6771\\u4eac\": [1], \"2020\": [1], \"\\u5927\\u4f1a\": [1], \"\\u5468\\u5e74\": [1], \"\\u8a18\\u5ff5\": [1], \"\\u30bb\\u30ec\\u30e2\\u30cb\\u30fc\": [1], \"\\u65e5\\u672c\": [1, 2], \"\\u4ee3\\u8868\": [1], \"\\u9078\\u624b\": [1], \"\\u56e3\": [1], \"163\": [1], \"\\u540d\": [1], \"\\u7b49\": [1], \"\\u5165\\u5834\": [1, 2], \"\\u30d1\\u30ec\\u30fc\\u30c9\": [1], \"\\u30a2\\u30b9\\u30ea\\u30fc\\u30c8\": [1], \"\\u5b50\\u4f9b\": [1], \"\\u6df7\\u5408\": [1], \"\\u30c1\\u30fc\\u30e0\": [1], \"\\u30ea\\u30ec\\u30fc\": [1], \"\\u30e9\\u30a4\\u30d6\": [1], \"\\u30d1\\u30d5\\u30a9\\u30fc\\u30de\\u30f3\\u30b9\": [1], \"\\u4f1a\\u5834\": [1], \"\\u76db\\u5927\": [1], \"\\u76db\\u308a\\u4e0a\\u304c\\u308b\": [1], \"\\u6765\\u5834\": [1], \"\\u7686\\u3055\\u307e\": [1], \"youtubelive\": [1], \"\\u914d\\u4fe1\": [1], \"\\u8996\\u8074\": [1], \"\\u53cb\\u9054\": [2], \"\\u6de1\\u8def\\u5cf6\": [2], \"\\u65c5\\u884c\": [2], \"\\u884c\\u304f\": [2], \"\\u6700\\u521d\": [2], \"\\u5168\\u54e1\": [2], \"\\u4e07\": [2], \"\\u5186\": [2], \"\\u96c6\\u3081\\u308b\": [2], \"\\u8ca1\\u5e03\": [2], \"\\u5165\\u308c\\u308b\": [2], \"\\u3054\\u98ef\": [2], \"\\u8cb7\\u3046\": [2], \"\\u6642\": [2], \"\\u79fb\\u52d5\": [2], \"\\u6599\": [2], \"\\u4f7f\\u3046\": [2], \"\\u652f\\u6255\\u3046\": [2], \"\\u65e5\\u672c\\u4eba\": [2], \"\\u5929\\u624d\": [2], \"\\u601d\\u3046\": [2], \"\\u4f59\\u308b\": [2], \"\\u500b\\u4eba\": [2], \"\\u30a2\\u30a4\\u30c7\\u30a2\": [2], \"\\u30cd\\u30b3\": [3], \"\\u79d1\": [3], \"\\u4ed4\": [3], \"\\u30c8\\u30e9\": [3], \"\\u30e9\\u30a4\\u30aa\\u30f3\": [3], \"\\u30d2\\u30e7\\u30a6\": [3], \"\\u30d4\\u30e5\\u30fc\\u30de\": [3], \"\\u30c1\\u30fc\\u30bf\": [3], \"\\u30ab\\u30e9\\u30ab\\u30eb\": [3], \"\\u30b5\\u30fc\": [3], \"\\u30d0\\u30eb\": [3], \"\\u30de\\u30cc\\u30eb\": [3], \"\\u30a4\\u30ea\\u30aa\\u30e2\\u30c6\\u30aa\\u30aa\\u30e4\\u30de\\u30cd\\u30b3\": [3], \"\\u30af\\u30a1\\u30fc\\u30eb\": [3], \"\\u30b4\\u30e1\\u30f3\\u30c1\\u30e3\\u30a4\": [3], \"\\u5bdd\\u308b\": [3]}, \"posts\": [\"\\u30b5\\u30eb\\u75d8\\u306e\\u6f5c\\u4f0f\\u671f\\u9593\\u306f7~14\\u65e5(\\u6700\\u59275~21\\u65e5)\\u3068\\u3055\\u308c\\u3066\\u304a\\u308a\\u3001\\u6f5c\\u4f0f\\u671f\\u9593\\u306e\\u5f8c\\u3001\\u767a\\u71b1\\u3001\\u982d\\u75db\\u3001\\u30ea\\u30f3\\u30d1\\u7bc0\\u816b\\u8139\\u3001\\u7b4b\\u8089\\u75db\\u306a\\u3069\\u306e\\u75c7\\u72b6\\u304c0~5\\u65e5\\u7d9a\\u304d\\u3001\\u767a\\u71b11~3\\u65e5\\u5f8c\\u306b\\u767a\\u75b9\\u304c\\u51fa\\u73fe\\u3001\\u767a\\u75c7\\u304b\\u30892~4\\u9031\\u9593\\u3067\\u6cbb\\u7652\\u3059\\u308b\\u3068\\u3055\\u308c\\u3066\\u3044\\u307e\\u3059\\u300224\", \"#\\u6771\\u4eac2020\\u5927\\u4f1a #1\\u5468\\u5e74\\u8a18\\u5ff5 \\u30bb\\u30ec\\u30e2\\u30cb\\u30fc\\u65e5\\u672c\\u4ee3\\u8868\\u9078\\u624b\\u56e3 163 \\u540d\\u7b49\\u306b\\u3088\\u308b\\u5165\\u5834\\u30d1\\u30ec\\u30fc\\u30c9\\u3084\\u30a2\\u30b9\\u30ea\\u30fc\\u30c8\\u3068\\u5b50\\u4f9b\\u305f\\u3061\\u306e\\u6df7\\u5408\\u30c1\\u30fc\\u30e0\\u30ea\\u30ec\\u30fc \\u30e9\\u30a4\\u30d6\\u30d1\\u30d5\\u30a9\\u30fc\\u30de\\u30f3\\u30b9\\u7b49\\u306b\\u3088\\u308a\\u3001 \\u4f1a\\u5834\\u306f\\u76db\\u5927\\u306b\\u76db\\u308a\\u4e0a\\u304c\\u308a\\u307e\\u3057\\u305f\\ud83c\\udf89\\u3054\\u6765\\u5834\\u306e\\u7686\\u3055\\u307e\\u3001youtubelive\\u914d\\u4fe1\\u3067\\u3054\\u8996\\u8074\\u306e\\u7686\\u3055\\u307e\\u3001\\u3042\\u308a\\u304c\\u3068\\u3046\\u3054\\u3056\\u3044\\u307e\\u3057\\u305f\\u2728\", \"\\u65e5\\u672c\\u306e\\u53cb\\u9054\\u3068\\u6de1\\u8def\\u5cf6\\u306b\\u65c5\\u884c\\u3078\\u884c\\u3063\\u305f\\u3093\\u3060\\u3051\\u3069\\u3001\\u6700\\u521d\\u306b\\u5168\\u54e1\\u304b\\u30891\\u4e07\\u5186\\u305a\\u3064\\u96c6\\u3081\\u3066\\u8ca1\\u5e03\\u306b\\u5165\\u308c\\u3066\\u3001\\u3054\\u98ef\\u3092\\u8cb7\\u3046\\u6642\\u3068\\u304b\\u3001\\u79fb\\u52d5\\u3059\\u308b\\u6642\\u3068\\u304b\\u3001\\u5165\\u5834\\u6599\\u3068\\u304b\\u3001\\u307f\\u3093\\u306a\\u3067\\u4f7f\\u3046\\u3082\\u306e\\u3092\\u305d\\u3053\\u304b\\u3089\\u652f\\u6255\\u3063\\u3066\\u3044\\u3066\\u300e\\u3084\\u3063\\u3071\\u308a\\u65e5\\u672c\\u4eba\\u65e5\\u672c\\u4eba\\u65e5\\u672c\\u4eba\\u65e5\\u672c\\u4eba\\u65e5\\u672c\\u4eba\\u3001\\u5929\\u624d\\u3060\\u306a\\u300f\\u3063\\u3066\\u601d\\u3063\\u305f\\u3002\\u4f59\\u308c\\u3070\\u308f\\u3051\\u308c\\u3070\\u3044\\u3044\\u3057\\u3001\\u500b\\u4eba\\u306e\\u3082\\u306e\\u306f\\u500b\\u4eba\\u3067\\u8cb7\\u3048\\u3070\\u3044\\u3044\\u3002\\u5929\\u624d\\u30a2\\u30a4\\u30c7\\u30a2\\u3002\", \"\\u3082\\u3057\\u304b\\u3059\\u308b\\u3068\\u3001\\u30cd\\u30b3\\u79d1\\u306e\\u4ed4\\u3063\\u3066\\u307f\\u3093\\u306a\\u3001\\u30c8\\u30e9\\u3082\\u30e9\\u30a4\\u30aa\\u30f3\\u3082\\u30d2\\u30e7\\u30a6\\u3082\\u30d4\\u30e5\\u30fc\\u30de\\u3082\\u30c1\\u30fc\\u30bf\\u3082\\u30ab\\u30e9\\u30ab\\u30eb\\u3082\\u30b5\\u30fc\\u30d0\\u30eb\\u3082\\u30de\\u30cc\\u30eb\\u3082\\u30a4\\u30ea\\u30aa\\u30e2\\u30c6\\u30aa\\u30aa\\u30e4\\u30de\\u30cd\\u30b3\\u3082\\u30af\\u30a1\\u30fc\\u30eb\\u3082\\u307f\\u3093\\u306a\\u3001\\u30b4\\u30e1\\u30f3\\u30c1\\u30e3\\u30a4\\u5bdd\\u3059\\u308b\\u306e\\u304b\\u306d?\"], \"wordcloud\": \"<svg xmlns=\\\"http://www.w3.org/2000/svg\\\" width=\\\"600\\\" height=\\\"400\\\">\\n<style>text{font-family:'Droid Sans Mono';font-weight:normal;font-style:normal;}</style>\\n<rect width=\\\"100%\\\" height=\\\"100%\\\" style=\\\"fill:white\\\"></rect>\\n<text transform=\\\"translate(186,57)\\\" font-size=\\\"60\\\" style=\\\"fill:rgb(127, 127, 127)\\\">\\u65e5\\u672c\\u4eba</text>\\n<text transform=\\\"translate(371,94)\\\" font-size=\\\"24\\\" style=\\\"fill:rgb(127, 127, 127)\\\">\\u6f5c\\u4f0f</text>\\n<text transform=\\\"translate(100,285)\\\" font-size=\\\"24\\\" style=\\\"fill:rgb(174, 199, 232)\\\">\\u671f\\u9593</text>\\n<text transform=\\\"translate(407,35)\\\" font-size=\\\"24\\\" style=\\\"fill:rgb(174, 199, 232)\\\">\\u767a\\u71b1</text>\\n<text transform=\\\"translate(191,318)\\\" font-size=\\\"24\\\" style=\\\"fill:rgb(31, 119, 180)\\\">\\u65e5\\u672c</text>\\n<text transform=\\\"translate(133,344)\\\" font-size=\\\"24\\\" style=\\\"fill:rgb(127, 127, 127)\\\">\\u5165\\u5834</text>\\n<text transform=\\\"translate(93,253)\\\" font-size=\\\"24\\\" style=\\\"fill:rgb(196, 156, 148)\\\">\\u7686\\u3055\\u307e</text>\\n<text transform=\\\"translate(147,22)\\\" font-size=\\\"24\\\" style=\\\"fill:rgb(199, 199, 199)\\\">\\u8cb7\\u3046</text>\\n<text transform=\\\"translate(49,234)\\\" font-size=\\\"24\\\" style=\\\"fill:rgb(214, 39, 40)\\\">\\u5929\\u624d</text>\\n<text transform=\\\"translate(530,193)\\\" font-size=\\\"24\\\" style=\\\"fill:rgb(255, 127, 14)\\\">\\u500b\\u4eba</text>\\n<text transform=\\\"translate(162,188)\\\" font-size=\\\"12\\\" style=\\\"fill:rgb(188, 189, 34)\\\">\\u30b5\\u30eb</text>\\n<text transform=\\\"translate(487,37)\\\" font-size=\\\"12\\\" style=\\\"fill:rgb(127, 127, 127)\\\">\\u6700\\u5927</text>\\n<text transform=\\\"translate(576,199)\\\" font-size=\\\"12\\\" style=\\\"fill:rgb(174, 199, 232)\\\">\\u982d\\u75db</text>\\n<text transform=\\\"translate(403,330)\\\" font-size=\\\"12\\\" style=\\\"fill:rgb(227, 119, 194)\\\">\\u30ea\\u30f3\\u30d1</text>\\n<text transform=\\\"translate(69,297)\\\" font-size=\\\"12\\\" style=\\\"fill:rgb(255, 187, 120)\\\">\\u816b\\u8139</text>\\n<text transform=\\\"translate(260,340)\\\" font-size=\\\"12\\\" style=\\\"fill:rgb(44, 160, 44)\\\">\\u7b4b\\u8089</text>\\n<text transform=\\\"translate(408,59)\\\" font-size=\\\"12\\\" style=\\\"fill:rgb(219, 219, 141)\\\">\\u75c7\\u72b6</text>\\n<text transform=\\\"translate(305,202)\\\" font-size=\\\"12\\\" style=\\\"fill:rgb(152, 223, 138)\\\">\\u7d9a\\u304f</text>\\n<text transform=\\\"translate(55,195)\\\" font-size=\\\"12\\\" style=\\\"fill:rgb(255, 187, 120)\\\">\\u767a\\u75b9</text>\\n<text transform=\\\"translate(164,349)\\\" font-size=\\\"12\\\" style=\\\"fill:rgb(152, 223, 138)\\\">\\u51fa\\u73fe</text>\\n<text transform=\\\"translate(521,341) rotate(-90)\\\" font-size=\\\"12\\\" style=\\\"fill:rgb(174, 199, 232)\\\">\\u767a\\u75c7</text>\\n<text transform=\\\"translate(541,279)\\\" font-size=\\\"12\\\" style=\\\"fill:rgb(127, 127, 127)\\\">\\u9031\\u9593</text>\\n<text transform=\\\"translate(43,204)\\\" font-size=\\\"12\\\" style=\\\"fill:rgb(152, 223, 138)\\\">\\u6cbb\\u7652</text>\\n<text transform=\\\"translate(582,364) rotate(-90)\\\" font-size=\\\"12\\\" style=\\\"fill:rgb(196, 156, 148)\\\">\\u6771\\u4eac</text>\\n<text transform=\\\"translate(296,46)\\\" font-size=\\\"12\\\" style=\\\"fill:rgb(44, 160, 44)\\\">\\u5927\\u4f1a</text>\\n<text transform=\\\"translate(318,170)\\\" font-size=\\\"12\\\" style=\\\"fill:rgb(148, 103, 189)\\\">\\u5468\\u5e74</text>\\n<text transform=\\\"translate(236,300)\\\" font-size=\\\"12\\\" style=\\\"fill:rgb(219, 219, 141)\\\">\\u8a18\\u5ff5</text>\\n<text transform=\\\"translate(437,383)\\\" font-size=\\\"12\\\" style=\\\"fill:rgb(197, 176, 213)\\\">\\u30bb\\u30ec\\u30e2\\u30cb\\u30fc</text>\\n<text transform=\\\"translate(415,341)\\\" font-size=\\\"12\\\" style=\\\"fill:rgb(197, 176, 213)\\\">\\u4ee3\\u8868</text>\\n<text transform=\\\"translate(379,139)\\\" font-size=\\\"12\\\" style=\\\"fill:rgb(127, 127, 127)\\\">\\u9078\\u624b</text>\\n<text transform=\\\"translate(562,335)\\\" font-size=\\\"12\\\" style=\\\"fill:rgb(148, 103, 189)\\\">\\u30d1\\u30ec\\u30fc\\u30c9</text>\\n<text transform=\\\"translate(386,219)\\\" font-size=\\\"12\\\" style=\\\"fill:rgb(44, 160, 44)\\\">\\u30a2\\u30b9\\u30ea\\u30fc\\u30c8</text>\\n<text transform=\\\"translate(320,278) rotate(-90)\\\" font-size=\\\"12\\\" style=\\\"fill:rgb(197, 176, 213)\\\">\\u5b50\\u4f9b</text>\\n<text transform=\\\"translate(183,76)\\\" font-size=\\\"12\\\" style=\\\"fill:rgb(255, 187, 120)\\\">\\u6df7\\u5408</text>\\n<text transform=\\\"translate(383,382)\\\" font-size=\\\"12\\\" style=\\\"fill:rgb(148, 103, 189)\\\">\\u30c1\\u30fc\\u30e0</text>\\n<text transform=\\\"translate(292,218)\\\" font-size=\\\"12\\\" style=\\\"fill:rgb(196, 156, 148)\\\">\\u30ea\\u30ec\\u30fc</text>\\n<text transform=\\\"translate(160,148)\\\" font-size=\\\"12\\\" style=\\\"fill:rgb(158, 218, 229)\\\">\\u30e9\\u30a4\\u30d6</text>\\n<text transform=\\\"translate(343,19)\\\" font-size=\\\"12\\\" style=\\\"fill:rgb(247, 182, 210)\\\">\\u30d1\\u30d5\\u30a9\\u30fc\\u30de\\u30f3\\u30b9</text>\\n<text transform=\\\"translate(18,296)\\\" font-size=\\\"12\\\" style=\\\"fill:rgb(199, 199, 199)\\\">\\u4f1a\\u5834</text>\\n<text transform=\\\"translate(375,190)\\\" font-size=\\\"12\\\" style=\\\"fill:rgb(255, 127, 14)\\\">\\u76db\\u5927</text>\\n<text transform=\\\"translate(289,288)\\\" font-size=\\\"12\\\" style=\\\"fill:rgb(31, 119, 180)\\\">\\u76db\\u308a\\u4e0a\\u304c\\u308b</text>\\n<text transform=\\\"translate(79,152)\\\" font-size=\\\"12\\\" style=\\\"fill:rgb(158, 218, 229)\\\">\\u6765\\u5834</text>\\n<text transform=\\\"translate(411,235)\\\" font-size=\\\"12\\\" style=\\\"fill:rgb(23, 190, 207)\\\">youtubelive</text>\\n<text transform=\\\"translate(496,169)\\\" font-size=\\\"12\\\" style=\\\"fill:rgb(188, 189, 34)\\\">\\u914d\\u4fe1</text>\\n<text transform=\\\"translate(70,121)\\\" font-size=\\\"12\\\" style=\\\"fill:rgb(255, 187, 120)\\\">\\u8996\\u8074</text>\\n<text transform=\\\"translate(532,308)\\\" font-size=\\\"12\\\" style=\\\"fill:rgb(158, 218, 229)\\\">\\u53cb\\u9054</text>\\n<text transform=\\\"translate(307,22) rotate(-90)\\\" font-size=\\\"12\\\" style=\\\"fill:rgb(196, 156, 148)\\\">\\u6de1\\u8def\\u5cf6</text>\\n<text transform=\\\"translate(564,80)\\\" font-size=\\\"12\\\" style=\\\"fill:rgb(23, 190, 207)\\\">\\u65c5\\u884c</text>\\n<text transform=\\\"translate(485,178)\\\" font-size=\\\"12\\\" style=\\\"fill:rgb(44, 160, 44)\\\">\\u884c\\u304f</text>\\n<text transform=\\\"translate(337,327)\\\" font-size=\\\"12\\\" style=\\\"fill:rgb(23, 190, 207)\\\">\\u6700\\u521d</text>\\n<text transform=\\\"translate(404,280)\\\" font-size=\\\"12\\\" style=\\\"fill:rgb(188, 189, 34)\\\">\\u5168\\u54e1</text>\\n<text transform=\\\"translate(79,338) rotate(-90)\\\" font-size=\\\"12\\\" style=\\\"fill:rgb(199, 199, 199)\\\">\\u96c6\\u3081\\u308b</text>\\n<text transform=\\\"translate(67,275)\\\" font-size=\\\"12\\\" style=\\\"fill:rgb(23, 190, 207)\\\">\\u8ca1\\u5e03</text>\\n<text transform=\\\"translate(445,327)\\\" font-size=\\\"12\\\" style=\\\"fill:rgb(219, 219, 141)\\\">\\u5165\\u308c\\u308b</text>\\n<text transform=\\\"translate(480,129)\\\" font-size=\\\"12\\\" style=\\\"fill:rgb(23, 190, 207)\\\">\\u3054\\u98ef</text>\\n<text transform=\\\"translate(25,125)\\\" font-size=\\\"12\\\" style=\\\"fill:rgb(127, 127, 127)\\\">\\u79fb\\u52d5</text>\\n<text transform=\\\"translate(230,393)\\\" font-size=\\\"12\\\" style=\\\"fill:rgb(227, 119, 194)\\\">\\u4f7f\\u3046</text>\\n<text transform=\\\"translate(468,325)\\\" font-size=\\\"12\\\" style=\\\"fill:rgb(197, 176, 213)\\\">\\u652f\\u6255\\u3046</text>\\n<text transform=\\\"translate(368,55)\\\" font-size=\\\"12\\\" style=\\\"fill:rgb(214, 39, 40)\\\">\\u601d\\u3046</text>\\n<text transform=\\\"translate(266,142)\\\" font-size=\\\"12\\\" style=\\\"fill:rgb(196, 156, 148)\\\">\\u4f59\\u308b</text>\\n<text transform=\\\"translate(61,60)\\\" font-size=\\\"12\\\" style=\\\"fill:rgb(44, 160, 44)\\\">\\u30a2\\u30a4\\u30c7\\u30a2</text>\\n<text transform=\\\"translate(374,205) rotate(-90)\\\" font-size=\\\"12\\\" style=\\\"fill:rgb(174, 199, 232)\\\">\\u30cd\\u30b3</text>\\n<text transform=\\\"translate(262,292)\\\" font-size=\\\"12\\\" style=\\\"fill:rgb(44, 160, 44)\\\">\\u30c8\\u30e9</text>\\n<text transform=\\\"translate(563,390)\\\" font-size=\\\"12\\\" style=\\\"fill:rgb(196, 156, 148)\\\">\\u30e9\\u30a4\\u30aa\\u30f3</text>\\n<text transform=\\\"translate(462,305)\\\" font-size=\\\"12\\\" style=\\\"fill:rgb(188, 189, 34)\\\">\\u30d2\\u30e7\\u30a6</text>\\n<text transform=\\\"translate(428,85)\\\" font-size=\\\"12\\\" style=\\\"fill:rgb(247, 182, 210)\\\">\\u30d4\\u30e5\\u30fc\\u30de</text>\\n<text transform=\\\"translate(553,264)\\\" font-size=\\\"12\\\" style=\\\"fill:rgb(197, 176, 213)\\\">\\u30c1\\u30fc\\u30bf</text>\\n<text transform=\\\"translate(217,88)\\\" font-size=\\\"12\\\" style=\\\"fill:rgb(174, 199, 232)\\\">\\u30ab\\u30e9\\u30ab\\u30eb</text>\\n<text transform=\\\"translate(287,85)\\\" font-size=\\\"12\\\" style=\\\"fill:rgb(44, 160, 44)\\\">\\u30b5\\u30fc</text>\\n<text transform=\\\"translate(577,275)\\\" font-size=\\\"12\\\" style=\\\"fill:rgb(255, 127, 14)\\\">\\u30d0\\u30eb</text>\\n<text transform=\\\"translate(45,310)\\\" font-size=\\\"12\\\" style=\\\"fill:rgb(44, 160, 44)\\\">\\u30de\\u30cc\\u30eb</text>\\n<text transform=\\\"translate(143,314) rotate(-90)\\\" font-size=\\\"12\\\" style=\\\"fill:rgb(188, 189, 34)\\\">\\u30a4\\u30ea\\u30aa\\u30e2\\u30c6\\u30aa\\u30aa\\u30e4\\u30de\\u30cd\\u30b3</text>\\n<text transform=\\\"translate(561,91)\\\" font-size=\\\"12\\\" style=\\\"fill:rgb(174, 199, 232)\\\">\\u30af\\u30a1\\u30fc\\u30eb</text>\\n<text transform=\\\"translate(261,392) rotate(-90)\\\" font-size=\\\"12\\\" style=\\\"fill:rgb(31, 119, 180)\\\">\\u30b4\\u30e1\\u30f3\\u30c1\\u30e3\\u30a4</text>\\n<text transform=\\\"translate(356,154)\\\" font-size=\\\"12\\\" style=\\\"fill:rgb(255, 187, 120)\\\">\\u5bdd\\u308b</text>\\n</svg>\"}\n"
     ]
    }
   ],
   "source": [
    "print(json.dumps(result))"
   ]
  },
  {
   "cell_type": "markdown",
   "metadata": {},
   "source": []
  },
  {
   "cell_type": "code",
   "execution_count": 5,
   "metadata": {},
   "outputs": [
    {
     "data": {
      "text/plain": [
       "'<svg xmlns=\"http://www.w3.org/2000/svg\" width=\"600\" height=\"400\">\\n<style>text{font-family:\\'Droid Sans Mono\\';font-weight:normal;font-style:normal;}</style>\\n<rect width=\"100%\" height=\"100%\" style=\"fill:white\"></rect>\\n<text transform=\"translate(186,57)\" font-size=\"60\" style=\"fill:rgb(127, 127, 127)\">日本人</text>\\n<text transform=\"translate(371,94)\" font-size=\"24\" style=\"fill:rgb(127, 127, 127)\">潜伏</text>\\n<text transform=\"translate(100,285)\" font-size=\"24\" style=\"fill:rgb(174, 199, 232)\">期間</text>\\n<text transform=\"translate(407,35)\" font-size=\"24\" style=\"fill:rgb(174, 199, 232)\">発熱</text>\\n<text transform=\"translate(191,318)\" font-size=\"24\" style=\"fill:rgb(31, 119, 180)\">日本</text>\\n<text transform=\"translate(133,344)\" font-size=\"24\" style=\"fill:rgb(127, 127, 127)\">入場</text>\\n<text transform=\"translate(93,253)\" font-size=\"24\" style=\"fill:rgb(196, 156, 148)\">皆さま</text>\\n<text transform=\"translate(147,22)\" font-size=\"24\" style=\"fill:rgb(199, 199, 199)\">買う</text>\\n<text transform=\"translate(49,234)\" font-size=\"24\" style=\"fill:rgb(214, 39, 40)\">天才</text>\\n<text transform=\"translate(530,193)\" font-size=\"24\" style=\"fill:rgb(255, 127, 14)\">個人</text>\\n<text transform=\"translate(162,188)\" font-size=\"12\" style=\"fill:rgb(188, 189, 34)\">サル</text>\\n<text transform=\"translate(487,37)\" font-size=\"12\" style=\"fill:rgb(127, 127, 127)\">最大</text>\\n<text transform=\"translate(576,199)\" font-size=\"12\" style=\"fill:rgb(174, 199, 232)\">頭痛</text>\\n<text transform=\"translate(403,330)\" font-size=\"12\" style=\"fill:rgb(227, 119, 194)\">リンパ</text>\\n<text transform=\"translate(69,297)\" font-size=\"12\" style=\"fill:rgb(255, 187, 120)\">腫脹</text>\\n<text transform=\"translate(260,340)\" font-size=\"12\" style=\"fill:rgb(44, 160, 44)\">筋肉</text>\\n<text transform=\"translate(408,59)\" font-size=\"12\" style=\"fill:rgb(219, 219, 141)\">症状</text>\\n<text transform=\"translate(305,202)\" font-size=\"12\" style=\"fill:rgb(152, 223, 138)\">続く</text>\\n<text transform=\"translate(55,195)\" font-size=\"12\" style=\"fill:rgb(255, 187, 120)\">発疹</text>\\n<text transform=\"translate(164,349)\" font-size=\"12\" style=\"fill:rgb(152, 223, 138)\">出現</text>\\n<text transform=\"translate(521,341) rotate(-90)\" font-size=\"12\" style=\"fill:rgb(174, 199, 232)\">発症</text>\\n<text transform=\"translate(541,279)\" font-size=\"12\" style=\"fill:rgb(127, 127, 127)\">週間</text>\\n<text transform=\"translate(43,204)\" font-size=\"12\" style=\"fill:rgb(152, 223, 138)\">治癒</text>\\n<text transform=\"translate(582,364) rotate(-90)\" font-size=\"12\" style=\"fill:rgb(196, 156, 148)\">東京</text>\\n<text transform=\"translate(296,46)\" font-size=\"12\" style=\"fill:rgb(44, 160, 44)\">大会</text>\\n<text transform=\"translate(318,170)\" font-size=\"12\" style=\"fill:rgb(148, 103, 189)\">周年</text>\\n<text transform=\"translate(236,300)\" font-size=\"12\" style=\"fill:rgb(219, 219, 141)\">記念</text>\\n<text transform=\"translate(437,383)\" font-size=\"12\" style=\"fill:rgb(197, 176, 213)\">セレモニー</text>\\n<text transform=\"translate(415,341)\" font-size=\"12\" style=\"fill:rgb(197, 176, 213)\">代表</text>\\n<text transform=\"translate(379,139)\" font-size=\"12\" style=\"fill:rgb(127, 127, 127)\">選手</text>\\n<text transform=\"translate(562,335)\" font-size=\"12\" style=\"fill:rgb(148, 103, 189)\">パレード</text>\\n<text transform=\"translate(386,219)\" font-size=\"12\" style=\"fill:rgb(44, 160, 44)\">アスリート</text>\\n<text transform=\"translate(320,278) rotate(-90)\" font-size=\"12\" style=\"fill:rgb(197, 176, 213)\">子供</text>\\n<text transform=\"translate(183,76)\" font-size=\"12\" style=\"fill:rgb(255, 187, 120)\">混合</text>\\n<text transform=\"translate(383,382)\" font-size=\"12\" style=\"fill:rgb(148, 103, 189)\">チーム</text>\\n<text transform=\"translate(292,218)\" font-size=\"12\" style=\"fill:rgb(196, 156, 148)\">リレー</text>\\n<text transform=\"translate(160,148)\" font-size=\"12\" style=\"fill:rgb(158, 218, 229)\">ライブ</text>\\n<text transform=\"translate(343,19)\" font-size=\"12\" style=\"fill:rgb(247, 182, 210)\">パフォーマンス</text>\\n<text transform=\"translate(18,296)\" font-size=\"12\" style=\"fill:rgb(199, 199, 199)\">会場</text>\\n<text transform=\"translate(375,190)\" font-size=\"12\" style=\"fill:rgb(255, 127, 14)\">盛大</text>\\n<text transform=\"translate(289,288)\" font-size=\"12\" style=\"fill:rgb(31, 119, 180)\">盛り上がる</text>\\n<text transform=\"translate(79,152)\" font-size=\"12\" style=\"fill:rgb(158, 218, 229)\">来場</text>\\n<text transform=\"translate(411,235)\" font-size=\"12\" style=\"fill:rgb(23, 190, 207)\">youtubelive</text>\\n<text transform=\"translate(496,169)\" font-size=\"12\" style=\"fill:rgb(188, 189, 34)\">配信</text>\\n<text transform=\"translate(70,121)\" font-size=\"12\" style=\"fill:rgb(255, 187, 120)\">視聴</text>\\n<text transform=\"translate(532,308)\" font-size=\"12\" style=\"fill:rgb(158, 218, 229)\">友達</text>\\n<text transform=\"translate(307,22) rotate(-90)\" font-size=\"12\" style=\"fill:rgb(196, 156, 148)\">淡路島</text>\\n<text transform=\"translate(564,80)\" font-size=\"12\" style=\"fill:rgb(23, 190, 207)\">旅行</text>\\n<text transform=\"translate(485,178)\" font-size=\"12\" style=\"fill:rgb(44, 160, 44)\">行く</text>\\n<text transform=\"translate(337,327)\" font-size=\"12\" style=\"fill:rgb(23, 190, 207)\">最初</text>\\n<text transform=\"translate(404,280)\" font-size=\"12\" style=\"fill:rgb(188, 189, 34)\">全員</text>\\n<text transform=\"translate(79,338) rotate(-90)\" font-size=\"12\" style=\"fill:rgb(199, 199, 199)\">集める</text>\\n<text transform=\"translate(67,275)\" font-size=\"12\" style=\"fill:rgb(23, 190, 207)\">財布</text>\\n<text transform=\"translate(445,327)\" font-size=\"12\" style=\"fill:rgb(219, 219, 141)\">入れる</text>\\n<text transform=\"translate(480,129)\" font-size=\"12\" style=\"fill:rgb(23, 190, 207)\">ご飯</text>\\n<text transform=\"translate(25,125)\" font-size=\"12\" style=\"fill:rgb(127, 127, 127)\">移動</text>\\n<text transform=\"translate(230,393)\" font-size=\"12\" style=\"fill:rgb(227, 119, 194)\">使う</text>\\n<text transform=\"translate(468,325)\" font-size=\"12\" style=\"fill:rgb(197, 176, 213)\">支払う</text>\\n<text transform=\"translate(368,55)\" font-size=\"12\" style=\"fill:rgb(214, 39, 40)\">思う</text>\\n<text transform=\"translate(266,142)\" font-size=\"12\" style=\"fill:rgb(196, 156, 148)\">余る</text>\\n<text transform=\"translate(61,60)\" font-size=\"12\" style=\"fill:rgb(44, 160, 44)\">アイデア</text>\\n<text transform=\"translate(374,205) rotate(-90)\" font-size=\"12\" style=\"fill:rgb(174, 199, 232)\">ネコ</text>\\n<text transform=\"translate(262,292)\" font-size=\"12\" style=\"fill:rgb(44, 160, 44)\">トラ</text>\\n<text transform=\"translate(563,390)\" font-size=\"12\" style=\"fill:rgb(196, 156, 148)\">ライオン</text>\\n<text transform=\"translate(462,305)\" font-size=\"12\" style=\"fill:rgb(188, 189, 34)\">ヒョウ</text>\\n<text transform=\"translate(428,85)\" font-size=\"12\" style=\"fill:rgb(247, 182, 210)\">ピューマ</text>\\n<text transform=\"translate(553,264)\" font-size=\"12\" style=\"fill:rgb(197, 176, 213)\">チータ</text>\\n<text transform=\"translate(217,88)\" font-size=\"12\" style=\"fill:rgb(174, 199, 232)\">カラカル</text>\\n<text transform=\"translate(287,85)\" font-size=\"12\" style=\"fill:rgb(44, 160, 44)\">サー</text>\\n<text transform=\"translate(577,275)\" font-size=\"12\" style=\"fill:rgb(255, 127, 14)\">バル</text>\\n<text transform=\"translate(45,310)\" font-size=\"12\" style=\"fill:rgb(44, 160, 44)\">マヌル</text>\\n<text transform=\"translate(143,314) rotate(-90)\" font-size=\"12\" style=\"fill:rgb(188, 189, 34)\">イリオモテオオヤマネコ</text>\\n<text transform=\"translate(561,91)\" font-size=\"12\" style=\"fill:rgb(174, 199, 232)\">クァール</text>\\n<text transform=\"translate(261,392) rotate(-90)\" font-size=\"12\" style=\"fill:rgb(31, 119, 180)\">ゴメンチャイ</text>\\n<text transform=\"translate(356,154)\" font-size=\"12\" style=\"fill:rgb(255, 187, 120)\">寝る</text>\\n</svg>'"
      ]
     },
     "execution_count": 5,
     "metadata": {},
     "output_type": "execute_result"
    }
   ],
   "source": [
    "ex_text"
   ]
  },
  {
   "cell_type": "code",
   "execution_count": 6,
   "metadata": {},
   "outputs": [
    {
     "data": {
      "image/png": "[encoded data removed]",
      "text/plain": [
       "<PIL.Image.Image image mode=RGB size=600x400 at 0x7FE3F4228400>"
      ]
     },
     "execution_count": 6,
     "metadata": {},
     "output_type": "execute_result"
    }
   ],
   "source": [
    "ex_img"
   ]
  }
 ],
 "metadata": {
  "kernelspec": {
   "display_name": "Python 3.9.12 ('base')",
   "language": "python",
   "name": "python3"
  },
  "language_info": {
   "codemirror_mode": {
    "name": "ipython",
    "version": 3
   },
   "file_extension": ".py",
   "mimetype": "text/x-python",
   "name": "python",
   "nbconvert_exporter": "python",
   "pygments_lexer": "ipython3",
   "version": "3.9.12"
  },
  "orig_nbformat": 4,
  "vscode": {
   "interpreter": {
    "hash": "37c59007b2efae7ece77d1d257bf5dac39310acb26ad458cba64f2540b5dde3e"
   }
  }
 },
 "nbformat": 4,
 "nbformat_minor": 2
}
